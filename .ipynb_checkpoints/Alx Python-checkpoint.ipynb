{
 "cells": [
  {
   "cell_type": "markdown",
   "id": "89eda1ea-82a4-4bae-8174-9a357b8e5b58",
   "metadata": {},
   "source": [
    "## If statemments"
   ]
  },
  {
   "cell_type": "code",
   "execution_count": 1,
   "id": "6a5a3066-84d1-452d-a9d1-c207ccf2ece8",
   "metadata": {},
   "outputs": [
    {
     "name": "stdout",
     "output_type": "stream",
     "text": [
      "Critical deforestation level reached!\n"
     ]
    }
   ],
   "source": [
    "# Check if the deforestation rate exceeds 20% and print a warning if it does.\n",
    "deforestration_rate = 0.25\n",
    "if deforestration_rate > 0.2:\n",
    "    print(\"Critical deforestation level reached!\")"
   ]
  },
  {
   "cell_type": "markdown",
   "id": "aaea66ca-a27d-4157-a6cd-8a27a595807f",
   "metadata": {},
   "source": [
    "### Nested if statements"
   ]
  },
  {
   "cell_type": "code",
   "execution_count": 2,
   "id": "3a06c15b-34ee-42ae-bfb1-01c6b7a67934",
   "metadata": {},
   "outputs": [
    {
     "name": "stdout",
     "output_type": "stream",
     "text": [
      "Urgent action needed in protected area due to high deforestation rate!\n"
     ]
    }
   ],
   "source": [
    "# Check if the deforestation rate exceeds 15% in a protected area and print an urgent action message if it does.\n",
    "deforestaion_rate = 0.18\n",
    "protected_area = True\n",
    "\n",
    "if deforestration_rate > 0.15:\n",
    "    if protected_area:\n",
    "        print(\"Urgent action needed in protected area due to high deforestation rate!\")\n",
    "        "
   ]
  },
  {
   "cell_type": "markdown",
   "id": "1a42abae-9d62-4f85-972f-35c7c7fc6bb2",
   "metadata": {},
   "source": [
    "### If -else statements"
   ]
  },
  {
   "cell_type": "code",
   "execution_count": 3,
   "id": "fd57af1b-4574-40fb-b94b-756941579d0f",
   "metadata": {},
   "outputs": [
    {
     "name": "stdout",
     "output_type": "stream",
     "text": [
      "Al)ert: Deforestation detected!\n"
     ]
    }
   ],
   "source": [
    "# Print a deforestation alert message if the alert is active, otherwise indicate no alerts.\n",
    "deforestation_alert = True\n",
    "if deforestation_alert:\n",
    "    print(\"Al)ert: Deforestation detected!\")\n",
    "else:\n",
    "    \"No Deforestation alerts\"\n",
    "    \n"
   ]
  },
  {
   "cell_type": "markdown",
   "id": "066128aa-59f1-4337-8e0b-7126d2910f7b",
   "metadata": {},
   "source": [
    "### Elif statements"
   ]
  },
  {
   "cell_type": "code",
   "execution_count": 4,
   "id": "5e3251c1-2e03-4e0a-aaaa-9dc8184b6761",
   "metadata": {},
   "outputs": [
    {
     "name": "stdout",
     "output_type": "stream",
     "text": [
      "High level\n"
     ]
    }
   ],
   "source": [
    "# Classify and print the deforestation rate as 'Critical level', 'High level', or 'Normal level'\n",
    "# based on its percentage.\n",
    "deforestation_rate = 0.10\n",
    "\n",
    "if deforestation_rate > 0.2:\n",
    "    print(\"Critical level\")\n",
    "elif deforestration_rate > 0.1:\n",
    "    print(\"High level\")\n",
    "else:\n",
    "    print(\"Normal level\")"
   ]
  },
  {
   "cell_type": "code",
   "execution_count": 5,
   "id": "ad17543f-7d6b-4d47-bdac-2d9963c89e3f",
   "metadata": {},
   "outputs": [
    {
     "name": "stdout",
     "output_type": "stream",
     "text": [
      "Monitor and plan reforestation\n"
     ]
    }
   ],
   "source": [
    "# Determine and print appropriate environmental actions based on the current deforestation rate level.\n",
    "deforestation_rate= 0.12\n",
    "if deforestation_rate > 0.3:\n",
    "    print(\"Implement emergency measures\")\n",
    "elif deforestation_rate >0.2:\n",
    "    print(\"Increase surveillance and conservation efforts\")\n",
    "elif deforestation_rate > 0.1:\n",
    "    print(\"Monitor and plan reforestation\")\n",
    "else:\n",
    "  print(\"Deforestation rate is within safe limits\")  "
   ]
  },
  {
   "cell_type": "markdown",
   "id": "5e321d5d-153d-40f8-8958-7e05698d0960",
   "metadata": {},
   "source": [
    "### Conditional Statement Keywords: not and pass"
   ]
  },
  {
   "cell_type": "code",
   "execution_count": 6,
   "id": "7211a4cc-44df-4427-b898-a4e385d82580",
   "metadata": {},
   "outputs": [
    {
     "name": "stdout",
     "output_type": "stream",
     "text": [
      "Forest is healthy!\n"
     ]
    }
   ],
   "source": [
    "# Prints \"Forest is healthy!\" if no deforestation is detected, otherwise alerts that deforestation has\n",
    "# been detected.\n",
    "deforestation_detected = False\n",
    "\n",
    "if not deforestation_detected:\n",
    "    print(\"Forest is healthy!\")\n",
    "else:\n",
    "    print(\"Deforestation detected!\")"
   ]
  },
  {
   "cell_type": "markdown",
   "id": "1e292198-e3b2-4356-ba44-b1b0061c4703",
   "metadata": {},
   "source": [
    "### Pass staement"
   ]
  },
  {
   "cell_type": "code",
   "execution_count": 7,
   "id": "a3ca26b1-8b94-49e0-b50f-5cd3fb3a9992",
   "metadata": {},
   "outputs": [
    {
     "name": "stdout",
     "output_type": "stream",
     "text": [
      "No immediate action required\n"
     ]
    }
   ],
   "source": [
    "# This code will result in an error because the 'if' block is empty.\n",
    "\n",
    "deforestation_rate= 0.05\n",
    "if deforestation_rate >0.1:\n",
    "    pass\n",
    "else:\n",
    "    print(\"No immediate action required\")"
   ]
  },
  {
   "cell_type": "markdown",
   "id": "e17fdb1c-6fd0-4be7-b883-53bb5afea127",
   "metadata": {},
   "source": [
    "### Ternary operator"
   ]
  },
  {
   "cell_type": "code",
   "execution_count": 8,
   "id": "bb7ce98e-ff70-4c4a-a0db-baf22e45778c",
   "metadata": {},
   "outputs": [
    {
     "name": "stdout",
     "output_type": "stream",
     "text": [
      "Deforestation status: Normal\n"
     ]
    }
   ],
   "source": [
    "# Sets and prints the deforestation status based on the deforestation rate.\n",
    "\n",
    "deforestation_rate = 0.07\n",
    "status = \"High\" if deforestation_rate > 0.1 else \"Normal\"\n",
    "print(f\"Deforestation status: {status}\")"
   ]
  },
  {
   "cell_type": "markdown",
   "id": "f378fd78-59c6-4c39-b3d0-36c1d89dc307",
   "metadata": {},
   "source": [
    "### Python loops"
   ]
  },
  {
   "cell_type": "code",
   "execution_count": 9,
   "id": "8e89e76a-8dd7-4896-9d6f-9803d33bde90",
   "metadata": {},
   "outputs": [
    {
     "name": "stdout",
     "output_type": "stream",
     "text": [
      "0\n",
      "1\n",
      "2\n",
      "3\n",
      "4\n",
      "5\n"
     ]
    }
   ],
   "source": [
    "list_of_numbers = [0,1,2,3,4,5]\n",
    "for i in list_of_numbers:\n",
    "    print(i)\n",
    "    "
   ]
  },
  {
   "cell_type": "markdown",
   "id": "5654813e-6cf6-4b8f-a27d-5222930de1c6",
   "metadata": {},
   "source": [
    "## While loops"
   ]
  },
  {
   "cell_type": "code",
   "execution_count": 10,
   "id": "06ba7486-2104-4961-be86-52a07092bd12",
   "metadata": {},
   "outputs": [
    {
     "name": "stdout",
     "output_type": "stream",
     "text": [
      "0\n",
      "1\n",
      "2\n",
      "3\n",
      "4\n"
     ]
    }
   ],
   "source": [
    "i = 0\n",
    "while i < 5:\n",
    "    print(i)\n",
    "    i += 1"
   ]
  },
  {
   "cell_type": "markdown",
   "id": "dd9d31bb-0e32-4a33-a8aa-d002e731d5c6",
   "metadata": {},
   "source": [
    "## List"
   ]
  },
  {
   "cell_type": "code",
   "execution_count": 11,
   "id": "acadbddb-1bd1-452c-a3e2-a3bdfaebcc50",
   "metadata": {},
   "outputs": [],
   "source": [
    "deforestation_rates = [150, 145, 140, 135, 130]\n",
    "deforestation_years = [2010, 2011, 2012, 2013, 2014]"
   ]
  },
  {
   "cell_type": "code",
   "execution_count": 12,
   "id": "361faf5f-40d9-4428-9dd7-564bc171f1a3",
   "metadata": {},
   "outputs": [
    {
     "name": "stdout",
     "output_type": "stream",
     "text": [
      "i = 0 - Yearly deforestation rate in 2010 is: 150k hectares\n",
      "i = 1 - Yearly deforestation rate in 2011 is: 145k hectares\n",
      "i = 2 - Yearly deforestation rate in 2012 is: 140k hectares\n",
      "i = 3 - Yearly deforestation rate in 2013 is: 135k hectares\n",
      "i = 4 - Yearly deforestation rate in 2014 is: 130k hectares\n"
     ]
    }
   ],
   "source": [
    "for i in range(len(deforestation_rates)):\n",
    "    rate = deforestation_rates[i]\n",
    "    year = deforestation_years[i]\n",
    "    print(f\"i = {i} - Yearly deforestation rate in {year} is: {rate}k hectares\")"
   ]
  },
  {
   "cell_type": "markdown",
   "id": "0a7c93f3-0d64-4318-8767-4344c76654a2",
   "metadata": {},
   "source": [
    "##  Dictonaries"
   ]
  },
  {
   "cell_type": "code",
   "execution_count": 13,
   "id": "b2199cee-15a6-4471-ad45-71fea0d7d6cf",
   "metadata": {},
   "outputs": [
    {
     "name": "stdout",
     "output_type": "stream",
     "text": [
      "Dolphins: 12 sightings\n",
      "Whales: 3 sightings\n",
      "Sea Turtles: 7 sightings\n"
     ]
    }
   ],
   "source": [
    "marine_species_count ={\n",
    "    'Dolphins': 12,\n",
    "    'Whales' : 3,\n",
    "    'Sea Turtles':7\n",
    "}\n",
    "for species in marine_species_count:\n",
    "    print(f\"{species}: {marine_species_count[species]} sightings\")\n",
    "    "
   ]
  },
  {
   "cell_type": "markdown",
   "id": "077e78d3-ea98-4c2a-93fe-1a3f4889263d",
   "metadata": {},
   "source": [
    "### Using Controlling Loops"
   ]
  },
  {
   "cell_type": "code",
   "execution_count": 14,
   "id": "1a071ca8-bf8e-4381-b647-ba2257809e7c",
   "metadata": {},
   "outputs": [
    {
     "name": "stdout",
     "output_type": "stream",
     "text": [
      "Number of endangered marine species: 5\n"
     ]
    }
   ],
   "source": [
    "endangered_marine_species = ['Hawksbill Turtle', 'Vaquita', 'Blue Whale', 'Staghorn Coral', 'Green Turtle']\n",
    "endangered_count =0\n",
    "# Your task: Use a for loop to count the number of species in the list\n",
    "for species in endangered_marine_species:\n",
    "    endangered_count +=1\n",
    "print(f\"Number of endangered marine species: {endangered_count}\")\n",
    "    "
   ]
  },
  {
   "cell_type": "markdown",
   "id": "9442e3d8-f7aa-4577-bb74-e6535f7d9f07",
   "metadata": {},
   "source": [
    "## Deforestation alert\n",
    "Objective: Use a while loop to simulate a deforestation monitoring system that alerts when the forested area falls below a critical threshold."
   ]
  },
  {
   "cell_type": "code",
   "execution_count": 16,
   "id": "addeef4e-6c96-4c42-bb6f-08689434143d",
   "metadata": {},
   "outputs": [
    {
     "name": "stdout",
     "output_type": "stream",
     "text": [
      "Years until critical deforestation level: 25\n"
     ]
    }
   ],
   "source": [
    "initial_forested_area = 1000\n",
    "deforestation_rate = 20 \n",
    "\n",
    "years = 0\n",
    "while initial_forested_area > 500:\n",
    "    initial_forested_area -= deforestation_rate\n",
    "    years += 1\n",
    "\n",
    "print(f\"Years until critical deforestation level: {years}\")\n",
    "\n"
   ]
  },
  {
   "cell_type": "markdown",
   "id": "7ecf2bfe-d68f-4a7a-9534-064e2a6b9d01",
   "metadata": {},
   "source": [
    "### Biodiversity analysis"
   ]
  },
  {
   "cell_type": "code",
   "execution_count": 22,
   "id": "700e1800-e5fe-41e9-aef8-dfc81fee17b1",
   "metadata": {},
   "outputs": [
    {
     "name": "stdout",
     "output_type": "stream",
     "text": [
      "Tiger is Endangered_species\n",
      "Blue Whale is Endangered_species\n",
      "African Elephant is Endangered_species\n",
      "Koala is not endangered.\n",
      "Panda is not endangered.\n"
     ]
    }
   ],
   "source": [
    "animals = ['Tiger', 'Blue Whale', 'African Elephant', 'Koala', 'Panda']\n",
    "endangered_animals = ['Tiger', 'Blue Whale', 'African Elephant']\n",
    "\n",
    "# Your task: Use a for loop to print out each animal's name and its endangered status\n",
    "for animal in animals:\n",
    "    if animal in endangered_animals:\n",
    "        print(f'{animal} is Endangered_species')\n",
    "    else:\n",
    "        print(f'{animal} is not endangered.')"
   ]
  },
  {
   "cell_type": "markdown",
   "id": "4cc10349-ff13-4716-8a07-12c24290c9ba",
   "metadata": {},
   "source": [
    "## Ocean pollution tracker"
   ]
  },
  {
   "cell_type": "code",
   "execution_count": 29,
   "id": "4ea5b328-aa97-48bf-9308-174f6ae27e37",
   "metadata": {},
   "outputs": [
    {
     "name": "stdout",
     "output_type": "stream",
     "text": [
      "The average pollution level in the Indian Ocean is 3.00\n"
     ]
    }
   ],
   "source": [
    "ocean_pollution_data = {\n",
    "    'Pacific Ocean': [3, 5, 2],  # pollution levels\n",
    "    'Atlantic Ocean': [7, 2, 4],\n",
    "    'Indian Ocean': [5, 1, 3]\n",
    "}\n",
    "# Your task: Use loops to calculate the average pollution level for each ocean and print it\n",
    "for ocean, pollution_levels in ocean_pollution_data.items():\n",
    "    total =sum (pollution_levels)\n",
    "    count = len(pollution_levels)\n",
    "    average = total/count\n",
    "print(f\"The average pollution level in the {ocean} is {average:.2f}\")"
   ]
  },
  {
   "cell_type": "markdown",
   "id": "7f6eae29-2a00-460e-8f95-6d726ab84aa6",
   "metadata": {},
   "source": [
    "## Species conservation"
   ]
  },
  {
   "cell_type": "code",
   "execution_count": 33,
   "id": "5053f469-bfac-43b1-a846-d539f6d937ab",
   "metadata": {},
   "outputs": [
    {
     "name": "stdout",
     "output_type": "stream",
     "text": [
      "Years to reach target population: 18\n"
     ]
    }
   ],
   "source": [
    "current_population = 150\n",
    "target_population = 500\n",
    "years = 0\n",
    "growth_rate = 1.07\n",
    "\n",
    "# Your task: Use a while loop to calculate how many years it takes to reach the target population\n",
    "while current_population < target_population:\n",
    "    \n",
    "    current_population *=growth_rate\n",
    "    years +=1\n",
    "print(f\"Years to reach target population: {years}\")"
   ]
  },
  {
   "cell_type": "markdown",
   "id": "d02e315d-a41a-4e44-9034-29263c4db8bb",
   "metadata": {},
   "source": [
    "### Basic list comprehension"
   ]
  },
  {
   "cell_type": "code",
   "execution_count": 34,
   "id": "bd4f4923-d367-4ca1-96cd-21809e5e92a5",
   "metadata": {},
   "outputs": [
    {
     "name": "stdout",
     "output_type": "stream",
     "text": [
      "[1, 4, 9, 16, 25, 36, 49, 64, 81, 100]\n"
     ]
    }
   ],
   "source": [
    "numbers = range(1, 11)\n",
    "\n",
    "squares = [ num**2 for num in numbers] # Fill in the list comprehension\n",
    "print(squares)"
   ]
  },
  {
   "cell_type": "markdown",
   "id": "99e0debb-25eb-48dc-9a93-ae6afc089711",
   "metadata": {},
   "source": [
    "#### List comprehension with a conditional"
   ]
  },
  {
   "cell_type": "code",
   "execution_count": 37,
   "id": "fa1e1125-cd92-4a49-a02b-f02d48630aa6",
   "metadata": {},
   "outputs": [
    {
     "name": "stdout",
     "output_type": "stream",
     "text": [
      "[2, 4, 6, 8, 10, 12, 14, 16, 18, 20]\n"
     ]
    }
   ],
   "source": [
    "numbers = range(1, 21)\n",
    "even_numbers = [x for x in numbers if x %2 == 0] # Fill in the list comprehension\n",
    "print(even_numbers)"
   ]
  },
  {
   "cell_type": "markdown",
   "id": "7b6a3528-ea3e-4586-bdfe-6c5724b9f905",
   "metadata": {},
   "source": [
    "### Dictionary comprehension"
   ]
  },
  {
   "cell_type": "code",
   "execution_count": 38,
   "id": "9531662a-31e0-4aeb-8538-046be7717259",
   "metadata": {},
   "outputs": [
    {
     "name": "stdout",
     "output_type": "stream",
     "text": [
      "{'Dolphin': 'Aquatic', 'Shark': 'Aquatic', 'Turtle': 'Aquatic'}\n"
     ]
    }
   ],
   "source": [
    "marine_animals = ['Dolphin', 'Shark', 'Turtle']\n",
    "\n",
    "# Dictionary comprehension to map each animal to 'Aquatic'\n",
    "animal_categories = {animal: 'Aquatic' for animal in marine_animals}\n",
    "print(animal_categories)"
   ]
  },
  {
   "cell_type": "markdown",
   "id": "d099767b-7b9a-46c4-ac9b-1b4d9d1320a4",
   "metadata": {},
   "source": [
    "### Data mapping with dictionary comprehension\n",
    "Use dictionary comprehension to create a mapping of each marine species to its conservation status based on the given lists. Only include species marked as 'Endangered'."
   ]
  },
  {
   "cell_type": "code",
   "execution_count": 40,
   "id": "bf4a4b87-5aff-410d-9276-63d4429bbff2",
   "metadata": {},
   "outputs": [
    {
     "name": "stdout",
     "output_type": "stream",
     "text": [
      "{'Dolphins': 'Endangered', 'Sea Turtles': 'Endangered'}\n"
     ]
    }
   ],
   "source": [
    "species = ['Dolphins', 'Whales', 'Sea Turtles', 'Seals']\n",
    "status = ['Endangered', 'Vulnerable', 'Endangered', 'Least Concern']\n",
    "number_of_species = range(len(species))\n",
    "\n",
    "endangered_species = {\n",
    "    species[i]: status[i] \n",
    "    for i in number_of_species \n",
    "    if status[i] == 'Endangered'\n",
    "}\n",
    "\n",
    "print(endangered_species)"
   ]
  },
  {
   "cell_type": "code",
   "execution_count": null,
   "id": "45c91a88-eb60-44cc-a85f-bbce5b273195",
   "metadata": {},
   "outputs": [],
   "source": []
  }
 ],
 "metadata": {
  "kernelspec": {
   "display_name": "Python 3 (ipykernel)",
   "language": "python",
   "name": "python3"
  },
  "language_info": {
   "codemirror_mode": {
    "name": "ipython",
    "version": 3
   },
   "file_extension": ".py",
   "mimetype": "text/x-python",
   "name": "python",
   "nbconvert_exporter": "python",
   "pygments_lexer": "ipython3",
   "version": "3.12.3"
  }
 },
 "nbformat": 4,
 "nbformat_minor": 5
}
